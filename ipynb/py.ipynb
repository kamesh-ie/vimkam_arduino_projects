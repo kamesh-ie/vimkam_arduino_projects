{
 "cells": [
  {
   "cell_type": "code",
   "execution_count": null,
   "metadata": {},
   "outputs": [],
   "source": [
    "import string\n",
    "def print_rangoli(size):\n",
    "    # your code goes here\n",
    "    row = size*2-1\n",
    "    coloumn = row+(size-1)*2\n",
    "    strr=''\n",
    "    letters = list(string.ascii_lowercase)[:size]\n",
    "    letters.reverse()\n",
    "    \n",
    "    for i in range(size):\n",
    "        for j in range()\n",
    "\n",
    "            \n",
    "    \n",
    "    \n",
    "if __name__ == '__main__':\n",
    "    n = int(input())\n",
    "    print_rangoli(n)"
   ]
  },
  {
   "cell_type": "code",
   "execution_count": null,
   "metadata": {},
   "outputs": [
    {
     "ename": "",
     "evalue": "",
     "output_type": "error",
     "traceback": [
      "\u001b[1;31mRunning cells with 'Python 3.9.10 64-bit (system)' requires ipykernel package.\n",
      "Run the following command to install 'ipykernel' into the Python environment. \n",
      "Command: 'd:/setups/pypy3.9-v7.3.9-win64/pypy3.9-v7.3.9-win64/python.exe -m pip install ipykernel -U --user --force-reinstall'"
     ]
    }
   ],
   "source": [
    "for i in range(10,1,-1):\n",
    "    print(i)"
   ]
  }
 ],
 "metadata": {
  "kernelspec": {
   "display_name": "Python 3.10.0 64-bit",
   "language": "python",
   "name": "python3"
  },
  "language_info": {
   "codemirror_mode": {
    "name": "ipython",
    "version": 3
   },
   "file_extension": ".py",
   "mimetype": "text/x-python",
   "name": "python",
   "nbconvert_exporter": "python",
   "pygments_lexer": "ipython3",
   "version": "3.10.0"
  },
  "orig_nbformat": 4,
  "vscode": {
   "interpreter": {
    "hash": "c78d3921716651f3d0b2c4794781c001915caaedeb74b0083a0df4d86ed48ff1"
   }
  }
 },
 "nbformat": 4,
 "nbformat_minor": 2
}
