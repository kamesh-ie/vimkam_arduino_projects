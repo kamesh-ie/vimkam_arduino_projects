{
 "cells": [
  {
   "cell_type": "code",
   "execution_count": null,
   "id": "e8b85802",
   "metadata": {},
   "outputs": [],
   "source": [
    "import cv2"
   ]
  },
  {
   "cell_type": "code",
   "execution_count": null,
   "id": "1ba108b5",
   "metadata": {},
   "outputs": [],
   "source": [
    "haar_data = cv2.CascadeClassifier('data.xml')"
   ]
  },
  {
   "cell_type": "code",
   "execution_count": null,
   "id": "9420cc89",
   "metadata": {},
   "outputs": [],
   "source": [
    "import cv2"
   ]
  },
  {
   "cell_type": "code",
   "execution_count": null,
   "id": "365ef254",
   "metadata": {},
   "outputs": [],
   "source": [
    "cam = cv2.VideoCapture(0)"
   ]
  },
  {
   "cell_type": "code",
   "execution_count": null,
   "id": "a7abc375",
   "metadata": {},
   "outputs": [],
   "source": [
    "flag,img = cam.read()"
   ]
  },
  {
   "cell_type": "code",
   "execution_count": null,
   "id": "5f62e1ba",
   "metadata": {},
   "outputs": [],
   "source": [
    "print(flag)"
   ]
  },
  {
   "cell_type": "code",
   "execution_count": null,
   "id": "5f7f65fe",
   "metadata": {},
   "outputs": [],
   "source": [
    "cv2.imshow(\"img\",img)"
   ]
  },
  {
   "cell_type": "code",
   "execution_count": null,
   "id": "103ccd8e",
   "metadata": {},
   "outputs": [],
   "source": [
    "import cv2\n",
    "import numpy as np\n",
    "\n",
    "cam = cv2.VideoCapture(0)\n",
    "while True:\n",
    "    _,img = cam.read()\n",
    "    cv2.imshow(\"original\",img)\n",
    "    face_cascade = cv2.CascadeClassifier('data.xml')\n",
    "    gray = cv2.cvtColor(img, cv2.COLOR_BGR2GRAY)\n",
    "    # Detect faces\n",
    "    faces = face_cascade.detectMultiScale(gray, 1.1, 4)\n",
    "    # Draw rectangle around the faces\n",
    "    for (x, y, w, h) in faces:\n",
    "        cv2.rectangle(img, (x, y), (x + w, y + h), (255, 0, 0), 2)\n",
    "    cv2.imshow('out',img)\n",
    "    if(cv2.waitKey(1) & 0xff ==ord('q')):\n",
    "        break\n",
    "cv2.destroyAllWindows()\n",
    "cam.release()"
   ]
  },
  {
   "cell_type": "code",
   "execution_count": null,
   "id": "8420895c",
   "metadata": {},
   "outputs": [],
   "source": [
    "import cv2\n",
    "import numpy as np\n",
    "\n",
    "cam = cv2.VideoCapture(0)\n",
    "while True:\n",
    "    flag,img = cam.read()\n",
    "    print(flag)\n",
    "    cv2.imshow(\"original\",img)\n",
    "    face_cascade = cv2.CascadeClassifier('data.xml')\n",
    "    gray = cv2.cvtColor(img, cv2.COLOR_BGR2GRAY)\n",
    "    # Detect faces\n",
    "    faces = face_cascade.detectMultiScale(gray, 1.1, 4)\n",
    "    # Draw rectangle around the faces\n",
    "    for (x, y, w, h) in faces:\n",
    "        cv2.rectangle(img, (x, y), (x + w, y + h), (255, 0, 0), 2)\n",
    "        face = img[y:y+h, x:x+w, :]\n",
    "        face = cv2.resize(face, (150,150))\n",
    "    cv2.imshow(\"face\",face)\n",
    "    cv2.imshow('result',img) \n",
    "    if(cv2.waitKey(2) == 27):\n",
    "        cam.release()\n",
    "        cv2.destroyAllWindows()\n",
    "        break"
   ]
  }
 ],
 "metadata": {
  "kernelspec": {
   "display_name": "Python 3.10.5 64-bit",
   "language": "python",
   "name": "python3"
  },
  "language_info": {
   "codemirror_mode": {
    "name": "ipython",
    "version": 3
   },
   "file_extension": ".py",
   "mimetype": "text/x-python",
   "name": "python",
   "nbconvert_exporter": "python",
   "pygments_lexer": "ipython3",
   "version": "3.10.5"
  },
  "vscode": {
   "interpreter": {
    "hash": "c78d3921716651f3d0b2c4794781c001915caaedeb74b0083a0df4d86ed48ff1"
   }
  }
 },
 "nbformat": 4,
 "nbformat_minor": 5
}
